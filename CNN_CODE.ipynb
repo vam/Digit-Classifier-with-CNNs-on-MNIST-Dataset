{
  "cells": [
    {
      "cell_type": "code",
      "source": [
        "import pandas as pd\n",
        "from sklearn.model_selection import train_test_split\n",
        "from tensorflow.keras.utils import to_categorical\n",
        "\n",
        "# Load data from a single CSV file\n",
        "data = pd.read_csv('train.csv')\n",
        "\n",
        "# Extract features and labels\n",
        "X = data.iloc[:, 1:].values.reshape(-1, 28, 28, 1).astype('float32') / 255\n",
        "y = to_categorical(data.iloc[:, 0].values)\n",
        "\n",
        "# Split data into training and testing sets\n",
        "x_train, x_test, y_train, y_test = train_test_split(X, y, test_size=0.2, random_state=42)\n"
      ],
      "metadata": {
        "id": "09PWn-ePUDyE"
      },
      "id": "09PWn-ePUDyE",
      "execution_count": null,
      "outputs": []
    },
    {
      "cell_type": "code",
      "source": [
        "from tensorflow.keras.models import Sequential\n",
        "from tensorflow.keras.layers import Conv2D, MaxPooling2D, Flatten, Dense\n",
        "\n",
        "# Build CNN model\n",
        "model = Sequential()\n",
        "model.add(Conv2D(32, (3, 3), activation='relu', input_shape=(28, 28, 1)))\n",
        "model.add(MaxPooling2D((2, 2)))\n",
        "model.add(Conv2D(64, (3, 3), activation='relu'))\n",
        "model.add(MaxPooling2D((2, 2)))\n",
        "model.add(Conv2D(64, (3, 3), activation='relu'))\n",
        "model.add(Flatten())\n",
        "model.add(Dense(64, activation='relu'))\n",
        "model.add(Dense(10, activation='softmax'))\n"
      ],
      "metadata": {
        "id": "xdPHKebIUD0M"
      },
      "id": "xdPHKebIUD0M",
      "execution_count": null,
      "outputs": []
    },
    {
      "cell_type": "code",
      "source": [
        "# Compile model\n",
        "model.compile(optimizer='adam', loss='categorical_crossentropy', metrics=['accuracy'])\n",
        "\n",
        "# Train model\n",
        "model.fit(x_train, y_train, epochs=10, batch_size=64, validation_data=(x_test, y_test))\n"
      ],
      "metadata": {
        "colab": {
          "base_uri": "https://localhost:8080/"
        },
        "id": "5TvdSfGwUD3E",
        "outputId": "444e3c83-7873-4953-dd60-5f607a7b0d6c"
      },
      "id": "5TvdSfGwUD3E",
      "execution_count": null,
      "outputs": [
        {
          "output_type": "stream",
          "name": "stdout",
          "text": [
            "Epoch 1/10\n",
            "525/525 [==============================] - 30s 53ms/step - loss: 0.2664 - accuracy: 0.9172 - val_loss: 0.0911 - val_accuracy: 0.9723\n",
            "Epoch 2/10\n",
            "525/525 [==============================] - 27s 51ms/step - loss: 0.0649 - accuracy: 0.9803 - val_loss: 0.0693 - val_accuracy: 0.9779\n",
            "Epoch 3/10\n",
            "525/525 [==============================] - 28s 53ms/step - loss: 0.0450 - accuracy: 0.9859 - val_loss: 0.0444 - val_accuracy: 0.9857\n",
            "Epoch 4/10\n",
            "525/525 [==============================] - 28s 54ms/step - loss: 0.0344 - accuracy: 0.9890 - val_loss: 0.0387 - val_accuracy: 0.9876\n",
            "Epoch 5/10\n",
            "525/525 [==============================] - 28s 54ms/step - loss: 0.0281 - accuracy: 0.9911 - val_loss: 0.0383 - val_accuracy: 0.9876\n",
            "Epoch 6/10\n",
            "525/525 [==============================] - 27s 51ms/step - loss: 0.0212 - accuracy: 0.9931 - val_loss: 0.0378 - val_accuracy: 0.9882\n",
            "Epoch 7/10\n",
            "525/525 [==============================] - 28s 52ms/step - loss: 0.0201 - accuracy: 0.9943 - val_loss: 0.0490 - val_accuracy: 0.9855\n",
            "Epoch 8/10\n",
            "525/525 [==============================] - 28s 53ms/step - loss: 0.0170 - accuracy: 0.9948 - val_loss: 0.0352 - val_accuracy: 0.9881\n",
            "Epoch 9/10\n",
            "525/525 [==============================] - 28s 52ms/step - loss: 0.0134 - accuracy: 0.9958 - val_loss: 0.0436 - val_accuracy: 0.9894\n",
            "Epoch 10/10\n",
            "525/525 [==============================] - 27s 51ms/step - loss: 0.0132 - accuracy: 0.9956 - val_loss: 0.0366 - val_accuracy: 0.9905\n"
          ]
        },
        {
          "output_type": "execute_result",
          "data": {
            "text/plain": [
              "<keras.src.callbacks.History at 0x7810393abcd0>"
            ]
          },
          "metadata": {},
          "execution_count": 8
        }
      ]
    },
    {
      "cell_type": "code",
      "source": [
        "# Evaluate model\n",
        "test_loss, test_acc = model.evaluate(x_test, y_test)\n",
        "print(f'Test accuracy: {test_acc}')\n"
      ],
      "metadata": {
        "colab": {
          "base_uri": "https://localhost:8080/"
        },
        "id": "JMu2FwkZUD5m",
        "outputId": "5dffa29d-c14e-4210-b9c9-e1fd5b7e24de"
      },
      "id": "JMu2FwkZUD5m",
      "execution_count": null,
      "outputs": [
        {
          "output_type": "stream",
          "name": "stdout",
          "text": [
            "263/263 [==============================] - 2s 8ms/step - loss: 0.0366 - accuracy: 0.9905\n",
            "Test accuracy: 0.9904761910438538\n"
          ]
        }
      ]
    },
    {
      "cell_type": "code",
      "source": [
        "# Assuming 'model' is your trained CNN model\n",
        "\n",
        "# Save the entire model (architecture, optimizer, and weights) to a single file\n",
        "model.save('digit_classifier_model.h5')\n",
        "\n"
      ],
      "metadata": {
        "colab": {
          "base_uri": "https://localhost:8080/"
        },
        "id": "eCDCiRsLUD8S",
        "outputId": "e5b2b54f-06ed-439f-d954-441ed35a1975"
      },
      "id": "eCDCiRsLUD8S",
      "execution_count": null,
      "outputs": [
        {
          "output_type": "stream",
          "name": "stderr",
          "text": [
            "/usr/local/lib/python3.10/dist-packages/keras/src/engine/training.py:3103: UserWarning: You are saving your model as an HDF5 file via `model.save()`. This file format is considered legacy. We recommend using instead the native Keras format, e.g. `model.save('my_model.keras')`.\n",
            "  saving_api.save_model(\n"
          ]
        }
      ]
    },
    {
      "cell_type": "code",
      "source": [],
      "metadata": {
        "id": "F93nOmGqUD_W"
      },
      "id": "F93nOmGqUD_W",
      "execution_count": null,
      "outputs": []
    }
  ],
  "metadata": {
    "kernelspec": {
      "display_name": "Python 3 (ipykernel)",
      "language": "python",
      "name": "python3"
    },
    "language_info": {
      "codemirror_mode": {
        "name": "ipython",
        "version": 3
      },
      "file_extension": ".py",
      "mimetype": "text/x-python",
      "name": "python",
      "nbconvert_exporter": "python",
      "pygments_lexer": "ipython3",
      "version": "3.9.13"
    },
    "colab": {
      "provenance": []
    }
  },
  "nbformat": 4,
  "nbformat_minor": 5
}